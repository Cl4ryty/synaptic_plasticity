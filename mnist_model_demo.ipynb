{
 "cells": [
  {
   "cell_type": "code",
   "execution_count": null,
   "metadata": {},
   "outputs": [],
   "source": [
    "# Imports \n",
    "import os\n",
    "# Important: insert the path to synaptic_plasticity/src\n",
    "os.chdir('/Users/path_to_synaptic_plasticity/synaptic_plasticity/src')\n",
    "import torch\n",
    "import torchvision\n",
    "import torchvision.transforms as transforms\n",
    "import matplotlib.pyplot as plt\n",
    "import random\n",
    "import spikingjelly\n",
    "import utils\n",
    "import network\n",
    "from spikingjelly.activation_based import functional"
   ]
  },
  {
   "cell_type": "markdown",
   "metadata": {},
   "source": [
    "## Loading a random MNIST image"
   ]
  },
  {
   "cell_type": "code",
   "execution_count": null,
   "metadata": {},
   "outputs": [],
   "source": [
    "transform = transforms.Compose([transforms.ToTensor()])\n",
    "mnist = torchvision.datasets.MNIST(root='./data', train=False, download=True, transform=transform)\n",
    "data_loader = torch.utils.data.DataLoader(mnist, batch_size=1, shuffle=True)"
   ]
  },
  {
   "cell_type": "code",
   "execution_count": null,
   "metadata": {},
   "outputs": [],
   "source": [
    "# Select a random sample\n",
    "sample_idx = random.randint(0, len(mnist) - 1)\n",
    "sample, label = mnist[sample_idx]\n",
    "\n",
    "# Visualize the sample\n",
    "plt.imshow(sample.squeeze(), cmap='gray')\n",
    "plt.axis('off')\n",
    "plt.title(f\"True Label: {label}\")\n",
    "plt.show()"
   ]
  },
  {
   "cell_type": "markdown",
   "metadata": {},
   "source": [
    "## Encoding static image into spike trains"
   ]
  },
  {
   "cell_type": "code",
   "execution_count": null,
   "metadata": {},
   "outputs": [],
   "source": [
    "_, testing_loader = utils.load_MNIST()\n",
    "encoded, encoded_label = testing_loader.dataset[sample_idx]"
   ]
  },
  {
   "cell_type": "code",
   "execution_count": null,
   "metadata": {},
   "outputs": [],
   "source": [
    "import matplotlib.pyplot as plt\n",
    "import matplotlib.animation as animation\n",
    "import numpy as np\n",
    "import torch\n",
    "from IPython.display import HTML\n",
    "\n",
    "# Sample tensor data (replace this with your actual tensor)\n",
    "data = encoded  # Shape: [15, 6, 28, 28]\n",
    "\n",
    "# Convert to numpy array for plotting\n",
    "data_np = data.numpy()\n",
    "\n",
    "# Create a figure and subplots\n",
    "fig, axs = plt.subplots(1, 6, figsize=(18, 3))\n",
    "fig.patch.set_facecolor('lightsalmon')\n",
    "\n",
    "# Hide the axes for a cleaner display\n",
    "for ax in axs:\n",
    "    ax.axis('off')\n",
    "\n",
    "# Animation update function\n",
    "def update(t):\n",
    "    for i, ax in enumerate(axs):\n",
    "        ax.imshow(data_np[t, i], cmap='grey')\n",
    "        ax.set_title(f'Channel = {i}', color='white', fontsize=10, fontweight='bold')\n",
    "    return axs\n",
    "\n",
    "# Create the animation\n",
    "ani = animation.FuncAnimation(fig, update, frames=15, interval=200, blit=False)\n",
    "\n",
    "# Close the figure to prevent the initial plot from showing\n",
    "plt.close(fig)\n",
    "\n",
    "# Display the animation\n",
    "HTML(ani.to_jshtml())\n"
   ]
  },
  {
   "cell_type": "markdown",
   "metadata": {},
   "source": [
    "## Insert the encoded MNIST sample into the model"
   ]
  },
  {
   "cell_type": "code",
   "execution_count": null,
   "metadata": {},
   "outputs": [],
   "source": [
    "net = network.Network(number_of_classes=10)"
   ]
  },
  {
   "cell_type": "code",
   "execution_count": null,
   "metadata": {},
   "outputs": [],
   "source": [
    "plt.imshow(net.conv1.weight.detach().numpy()[0,0])\n",
    "plt.axis('off')"
   ]
  },
  {
   "cell_type": "code",
   "execution_count": null,
   "metadata": {},
   "outputs": [],
   "source": [
    "latest_checkpoint_path = utils.get_latest_checkpoint('../checkpoints/experiment_1')\n",
    "if latest_checkpoint_path:\n",
    "    # Load the checkpoint if found\n",
    "    start_epoch, training_layer = utils.load_checkpoint(net,\n",
    "                                                    latest_checkpoint_path)"
   ]
  },
  {
   "cell_type": "code",
   "execution_count": null,
   "metadata": {},
   "outputs": [],
   "source": [
    "plt.imshow(net.conv1.weight.detach().numpy()[0,0])\n",
    "plt.axis('off')"
   ]
  },
  {
   "cell_type": "code",
   "execution_count": null,
   "metadata": {},
   "outputs": [],
   "source": [
    "encoded_label"
   ]
  },
  {
   "cell_type": "code",
   "execution_count": null,
   "metadata": {},
   "outputs": [],
   "source": [
    "# Use multistep mode for faster training\n",
    "functional.set_step_mode(net, step_mode='m')\n",
    "frame = encoded.to('cpu:0')\n",
    "frame = frame.unsqueeze(dim=0)\n",
    "frame = frame.transpose(0, 1)\n",
    "frame = frame.float()\n",
    "_ = net(frame)"
   ]
  },
  {
   "cell_type": "code",
   "execution_count": null,
   "metadata": {},
   "outputs": [],
   "source": [
    "# Extract the decision value as an integer\n",
    "decision = net.get_decision()\n",
    "decision_value = int(decision.numpy()[0])\n",
    "\n",
    "# Determine if the decision is correct\n",
    "result = \"Correct 😀\" if decision_value == label else \"Incorrect 😭\"\n",
    "\n",
    "# Print the result\n",
    "print(f\"The network decided: {decision_value}\\nThe true label: {label}\\n{result}\")"
   ]
  }
 ],
 "metadata": {
  "kernelspec": {
   "display_name": "plasticity_project",
   "language": "python",
   "name": "python3"
  },
  "language_info": {
   "codemirror_mode": {
    "name": "ipython",
    "version": 3
   },
   "file_extension": ".py",
   "mimetype": "text/x-python",
   "name": "python",
   "nbconvert_exporter": "python",
   "pygments_lexer": "ipython3",
   "version": "3.9.19"
  }
 },
 "nbformat": 4,
 "nbformat_minor": 2
}
